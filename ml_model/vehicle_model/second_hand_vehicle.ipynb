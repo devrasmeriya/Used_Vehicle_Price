{
  "nbformat": 4,
  "nbformat_minor": 0,
  "metadata": {
    "colab": {
      "name": "second_hand_vehicle.ipynb",
      "provenance": [],
      "collapsed_sections": []
    },
    "kernelspec": {
      "name": "python3",
      "display_name": "Python 3"
    },
    "accelerator": "TPU"
  },
  "cells": [
    {
      "cell_type": "markdown",
      "metadata": {
        "id": "wrFvVnr5JTjt"
      },
      "source": [
        "unzip_data\r\n"
      ]
    },
    {
      "cell_type": "code",
      "metadata": {
        "id": "vgebWanJpjoh",
        "colab": {
          "base_uri": "https://localhost:8080/"
        },
        "outputId": "e512f66c-356d-47c8-811b-f1d6ab93573b"
      },
      "source": [
        "from zipfile import ZipFile\r\n",
        "file_name='/content/archive.zip'\r\n",
        "with ZipFile(file_name,'r') as zip:\r\n",
        "  zip.extractall()\r\n",
        "  print('done')\r\n"
      ],
      "execution_count": 1,
      "outputs": [
        {
          "output_type": "stream",
          "text": [
            "done\n"
          ],
          "name": "stdout"
        }
      ]
    },
    {
      "cell_type": "markdown",
      "metadata": {
        "id": "_H1sx_aqJZet"
      },
      "source": [
        "Importing Basic \r\n"
      ]
    },
    {
      "cell_type": "code",
      "metadata": {
        "id": "zbJQWQBex2Jv"
      },
      "source": [
        "import pandas as pd\r\n",
        "import pandas as pd\r\n",
        "import numpy as np\r\n",
        "import matplotlib.pyplot as plt\r\n",
        "import seaborn as sns"
      ],
      "execution_count": 2,
      "outputs": []
    },
    {
      "cell_type": "code",
      "metadata": {
        "id": "JDLHXxaAzcg8"
      },
      "source": [
        "car_data=pd.read_csv(\"/content/car data.csv\")"
      ],
      "execution_count": 3,
      "outputs": []
    },
    {
      "cell_type": "code",
      "metadata": {
        "colab": {
          "base_uri": "https://localhost:8080/"
        },
        "id": "vXzBM6l07ont",
        "outputId": "74163df4-57e3-4764-dd6d-6fa7f08e5882"
      },
      "source": [
        "car_data.shape"
      ],
      "execution_count": 4,
      "outputs": [
        {
          "output_type": "execute_result",
          "data": {
            "text/plain": [
              "(301, 9)"
            ]
          },
          "metadata": {
            "tags": []
          },
          "execution_count": 4
        }
      ]
    },
    {
      "cell_type": "code",
      "metadata": {
        "colab": {
          "base_uri": "https://localhost:8080/",
          "height": 402
        },
        "id": "WPJV7-u10_jM",
        "outputId": "ea50ec47-c142-4dcb-c4cf-d6720fbcd535"
      },
      "source": [
        "car_data"
      ],
      "execution_count": 5,
      "outputs": [
        {
          "output_type": "execute_result",
          "data": {
            "text/html": [
              "<div>\n",
              "<style scoped>\n",
              "    .dataframe tbody tr th:only-of-type {\n",
              "        vertical-align: middle;\n",
              "    }\n",
              "\n",
              "    .dataframe tbody tr th {\n",
              "        vertical-align: top;\n",
              "    }\n",
              "\n",
              "    .dataframe thead th {\n",
              "        text-align: right;\n",
              "    }\n",
              "</style>\n",
              "<table border=\"1\" class=\"dataframe\">\n",
              "  <thead>\n",
              "    <tr style=\"text-align: right;\">\n",
              "      <th></th>\n",
              "      <th>Car_Name</th>\n",
              "      <th>Year</th>\n",
              "      <th>Selling_Price</th>\n",
              "      <th>Present_Price</th>\n",
              "      <th>Kms_Driven</th>\n",
              "      <th>Fuel_Type</th>\n",
              "      <th>Seller_Type</th>\n",
              "      <th>Transmission</th>\n",
              "      <th>Owner</th>\n",
              "    </tr>\n",
              "  </thead>\n",
              "  <tbody>\n",
              "    <tr>\n",
              "      <th>0</th>\n",
              "      <td>ritz</td>\n",
              "      <td>2014</td>\n",
              "      <td>3.35</td>\n",
              "      <td>5.59</td>\n",
              "      <td>27000</td>\n",
              "      <td>Petrol</td>\n",
              "      <td>Dealer</td>\n",
              "      <td>Manual</td>\n",
              "      <td>0</td>\n",
              "    </tr>\n",
              "    <tr>\n",
              "      <th>1</th>\n",
              "      <td>sx4</td>\n",
              "      <td>2013</td>\n",
              "      <td>4.75</td>\n",
              "      <td>9.54</td>\n",
              "      <td>43000</td>\n",
              "      <td>Diesel</td>\n",
              "      <td>Dealer</td>\n",
              "      <td>Manual</td>\n",
              "      <td>0</td>\n",
              "    </tr>\n",
              "    <tr>\n",
              "      <th>2</th>\n",
              "      <td>ciaz</td>\n",
              "      <td>2017</td>\n",
              "      <td>7.25</td>\n",
              "      <td>9.85</td>\n",
              "      <td>6900</td>\n",
              "      <td>Petrol</td>\n",
              "      <td>Dealer</td>\n",
              "      <td>Manual</td>\n",
              "      <td>0</td>\n",
              "    </tr>\n",
              "    <tr>\n",
              "      <th>3</th>\n",
              "      <td>wagon r</td>\n",
              "      <td>2011</td>\n",
              "      <td>2.85</td>\n",
              "      <td>4.15</td>\n",
              "      <td>5200</td>\n",
              "      <td>Petrol</td>\n",
              "      <td>Dealer</td>\n",
              "      <td>Manual</td>\n",
              "      <td>0</td>\n",
              "    </tr>\n",
              "    <tr>\n",
              "      <th>4</th>\n",
              "      <td>swift</td>\n",
              "      <td>2014</td>\n",
              "      <td>4.60</td>\n",
              "      <td>6.87</td>\n",
              "      <td>42450</td>\n",
              "      <td>Diesel</td>\n",
              "      <td>Dealer</td>\n",
              "      <td>Manual</td>\n",
              "      <td>0</td>\n",
              "    </tr>\n",
              "    <tr>\n",
              "      <th>...</th>\n",
              "      <td>...</td>\n",
              "      <td>...</td>\n",
              "      <td>...</td>\n",
              "      <td>...</td>\n",
              "      <td>...</td>\n",
              "      <td>...</td>\n",
              "      <td>...</td>\n",
              "      <td>...</td>\n",
              "      <td>...</td>\n",
              "    </tr>\n",
              "    <tr>\n",
              "      <th>296</th>\n",
              "      <td>city</td>\n",
              "      <td>2016</td>\n",
              "      <td>9.50</td>\n",
              "      <td>11.60</td>\n",
              "      <td>33988</td>\n",
              "      <td>Diesel</td>\n",
              "      <td>Dealer</td>\n",
              "      <td>Manual</td>\n",
              "      <td>0</td>\n",
              "    </tr>\n",
              "    <tr>\n",
              "      <th>297</th>\n",
              "      <td>brio</td>\n",
              "      <td>2015</td>\n",
              "      <td>4.00</td>\n",
              "      <td>5.90</td>\n",
              "      <td>60000</td>\n",
              "      <td>Petrol</td>\n",
              "      <td>Dealer</td>\n",
              "      <td>Manual</td>\n",
              "      <td>0</td>\n",
              "    </tr>\n",
              "    <tr>\n",
              "      <th>298</th>\n",
              "      <td>city</td>\n",
              "      <td>2009</td>\n",
              "      <td>3.35</td>\n",
              "      <td>11.00</td>\n",
              "      <td>87934</td>\n",
              "      <td>Petrol</td>\n",
              "      <td>Dealer</td>\n",
              "      <td>Manual</td>\n",
              "      <td>0</td>\n",
              "    </tr>\n",
              "    <tr>\n",
              "      <th>299</th>\n",
              "      <td>city</td>\n",
              "      <td>2017</td>\n",
              "      <td>11.50</td>\n",
              "      <td>12.50</td>\n",
              "      <td>9000</td>\n",
              "      <td>Diesel</td>\n",
              "      <td>Dealer</td>\n",
              "      <td>Manual</td>\n",
              "      <td>0</td>\n",
              "    </tr>\n",
              "    <tr>\n",
              "      <th>300</th>\n",
              "      <td>brio</td>\n",
              "      <td>2016</td>\n",
              "      <td>5.30</td>\n",
              "      <td>5.90</td>\n",
              "      <td>5464</td>\n",
              "      <td>Petrol</td>\n",
              "      <td>Dealer</td>\n",
              "      <td>Manual</td>\n",
              "      <td>0</td>\n",
              "    </tr>\n",
              "  </tbody>\n",
              "</table>\n",
              "<p>301 rows × 9 columns</p>\n",
              "</div>"
            ],
            "text/plain": [
              "    Car_Name  Year  Selling_Price  ...  Seller_Type  Transmission Owner\n",
              "0       ritz  2014           3.35  ...       Dealer        Manual     0\n",
              "1        sx4  2013           4.75  ...       Dealer        Manual     0\n",
              "2       ciaz  2017           7.25  ...       Dealer        Manual     0\n",
              "3    wagon r  2011           2.85  ...       Dealer        Manual     0\n",
              "4      swift  2014           4.60  ...       Dealer        Manual     0\n",
              "..       ...   ...            ...  ...          ...           ...   ...\n",
              "296     city  2016           9.50  ...       Dealer        Manual     0\n",
              "297     brio  2015           4.00  ...       Dealer        Manual     0\n",
              "298     city  2009           3.35  ...       Dealer        Manual     0\n",
              "299     city  2017          11.50  ...       Dealer        Manual     0\n",
              "300     brio  2016           5.30  ...       Dealer        Manual     0\n",
              "\n",
              "[301 rows x 9 columns]"
            ]
          },
          "metadata": {
            "tags": []
          },
          "execution_count": 5
        }
      ]
    },
    {
      "cell_type": "code",
      "metadata": {
        "colab": {
          "base_uri": "https://localhost:8080/"
        },
        "id": "3DzsINpT1Fb8",
        "outputId": "4da66070-ffa7-428b-b3c6-1a428b316609"
      },
      "source": [
        "car_data.info()"
      ],
      "execution_count": 6,
      "outputs": [
        {
          "output_type": "stream",
          "text": [
            "<class 'pandas.core.frame.DataFrame'>\n",
            "RangeIndex: 301 entries, 0 to 300\n",
            "Data columns (total 9 columns):\n",
            " #   Column         Non-Null Count  Dtype  \n",
            "---  ------         --------------  -----  \n",
            " 0   Car_Name       301 non-null    object \n",
            " 1   Year           301 non-null    int64  \n",
            " 2   Selling_Price  301 non-null    float64\n",
            " 3   Present_Price  301 non-null    float64\n",
            " 4   Kms_Driven     301 non-null    int64  \n",
            " 5   Fuel_Type      301 non-null    object \n",
            " 6   Seller_Type    301 non-null    object \n",
            " 7   Transmission   301 non-null    object \n",
            " 8   Owner          301 non-null    int64  \n",
            "dtypes: float64(2), int64(3), object(4)\n",
            "memory usage: 21.3+ KB\n"
          ],
          "name": "stdout"
        }
      ]
    },
    {
      "cell_type": "code",
      "metadata": {
        "id": "vs6HBuYI4TlF"
      },
      "source": [
        "car_data['Age'] = 2020 - car_data['Year']\r\n",
        "car_data.drop('Year',axis=1,inplace = True)"
      ],
      "execution_count": 7,
      "outputs": []
    },
    {
      "cell_type": "code",
      "metadata": {
        "id": "TUtSC89e7LuW"
      },
      "source": [
        "car_data.rename(columns = {'Selling_Price':'Selling_Price(lacs)','Present_Price':'Present_Price(lacs)','Owner':'Past_Owners'},inplace = True)"
      ],
      "execution_count": 8,
      "outputs": []
    },
    {
      "cell_type": "code",
      "metadata": {
        "colab": {
          "base_uri": "https://localhost:8080/",
          "height": 547
        },
        "id": "-YEzcBmN7XAu",
        "outputId": "ffc6d6f6-6b2f-40cb-b5d1-0d24bf7a0705"
      },
      "source": [
        "cat_cols = ['Fuel_Type','Seller_Type','Transmission','Past_Owners']\r\n",
        "i=0\r\n",
        "while i < 4:\r\n",
        "    fig = plt.figure(figsize=[10,4])\r\n",
        "    #ax1 = fig.add_subplot(121)\r\n",
        "    #ax2 = fig.add_subplot(122)\r\n",
        "    \r\n",
        "    #ax1.title.set_text(cat_cols[i])\r\n",
        "    plt.subplot(1,2,1)\r\n",
        "    sns.countplot(x=cat_cols[i], data=car_data)\r\n",
        "    i += 1\r\n",
        "    \r\n",
        "    #ax2.title.set_text(cat_cols[i])\r\n",
        "    plt.subplot(1,2,2)\r\n",
        "    sns.countplot(x=cat_cols[i], data=car_data)\r\n",
        "    i += 1\r\n",
        "    \r\n",
        "    plt.show()"
      ],
      "execution_count": 9,
      "outputs": [
        {
          "output_type": "display_data",
          "data": {
            "image/png": "[encoded data removed]",
            "text/plain": [
              "<Figure size 720x288 with 2 Axes>"
            ]
          },
          "metadata": {
            "tags": [],
            "needs_background": "light"
          }
        },
        {
          "output_type": "display_data",
          "data": {
            "image/png": "[encoded data removed]",
            "text/plain": [
              "<Figure size 720x288 with 2 Axes>"
            ]
          },
          "metadata": {
            "tags": [],
            "needs_background": "light"
          }
        }
      ]
    },
    {
      "cell_type": "code",
      "metadata": {
        "colab": {
          "base_uri": "https://localhost:8080/",
          "height": 354
        },
        "id": "IgJ7CnnT7wkv",
        "outputId": "d2512ba2-daa3-4520-83ab-3d71fcabc4c4"
      },
      "source": [
        "sns.heatmap(car_data.corr(), annot=True, cmap=\"RdBu\")\r\n",
        "plt.show()"
      ],
      "execution_count": 10,
      "outputs": [
        {
          "output_type": "display_data",
          "data": {
            "image/png": "[encoded data removed]",
            "text/plain": [
              "<Figure size 432x288 with 2 Axes>"
            ]
          },
          "metadata": {
            "tags": [],
            "needs_background": "light"
          }
        }
      ]
    },
    {
      "cell_type": "code",
      "metadata": {
        "id": "wGokhcom8x1b"
      },
      "source": [
        "car_data.drop(labels='Car_Name',axis= 1, inplace = True)"
      ],
      "execution_count": 11,
      "outputs": []
    },
    {
      "cell_type": "code",
      "metadata": {
        "id": "iJgScRq39EJo"
      },
      "source": [
        "car_data = pd.get_dummies(data = car_data,drop_first=True) "
      ],
      "execution_count": 12,
      "outputs": []
    },
    {
      "cell_type": "code",
      "metadata": {
        "colab": {
          "base_uri": "https://localhost:8080/",
          "height": 422
        },
        "id": "oDGtghZz9LSt",
        "outputId": "da60c68d-e684-4111-c5fb-557bec363bb5"
      },
      "source": [
        "car_data"
      ],
      "execution_count": 13,
      "outputs": [
        {
          "output_type": "execute_result",
          "data": {
            "text/html": [
              "<div>\n",
              "<style scoped>\n",
              "    .dataframe tbody tr th:only-of-type {\n",
              "        vertical-align: middle;\n",
              "    }\n",
              "\n",
              "    .dataframe tbody tr th {\n",
              "        vertical-align: top;\n",
              "    }\n",
              "\n",
              "    .dataframe thead th {\n",
              "        text-align: right;\n",
              "    }\n",
              "</style>\n",
              "<table border=\"1\" class=\"dataframe\">\n",
              "  <thead>\n",
              "    <tr style=\"text-align: right;\">\n",
              "      <th></th>\n",
              "      <th>Selling_Price(lacs)</th>\n",
              "      <th>Present_Price(lacs)</th>\n",
              "      <th>Kms_Driven</th>\n",
              "      <th>Past_Owners</th>\n",
              "      <th>Age</th>\n",
              "      <th>Fuel_Type_Diesel</th>\n",
              "      <th>Fuel_Type_Petrol</th>\n",
              "      <th>Seller_Type_Individual</th>\n",
              "      <th>Transmission_Manual</th>\n",
              "    </tr>\n",
              "  </thead>\n",
              "  <tbody>\n",
              "    <tr>\n",
              "      <th>0</th>\n",
              "      <td>3.35</td>\n",
              "      <td>5.59</td>\n",
              "      <td>27000</td>\n",
              "      <td>0</td>\n",
              "      <td>6</td>\n",
              "      <td>0</td>\n",
              "      <td>1</td>\n",
              "      <td>0</td>\n",
              "      <td>1</td>\n",
              "    </tr>\n",
              "    <tr>\n",
              "      <th>1</th>\n",
              "      <td>4.75</td>\n",
              "      <td>9.54</td>\n",
              "      <td>43000</td>\n",
              "      <td>0</td>\n",
              "      <td>7</td>\n",
              "      <td>1</td>\n",
              "      <td>0</td>\n",
              "      <td>0</td>\n",
              "      <td>1</td>\n",
              "    </tr>\n",
              "    <tr>\n",
              "      <th>2</th>\n",
              "      <td>7.25</td>\n",
              "      <td>9.85</td>\n",
              "      <td>6900</td>\n",
              "      <td>0</td>\n",
              "      <td>3</td>\n",
              "      <td>0</td>\n",
              "      <td>1</td>\n",
              "      <td>0</td>\n",
              "      <td>1</td>\n",
              "    </tr>\n",
              "    <tr>\n",
              "      <th>3</th>\n",
              "      <td>2.85</td>\n",
              "      <td>4.15</td>\n",
              "      <td>5200</td>\n",
              "      <td>0</td>\n",
              "      <td>9</td>\n",
              "      <td>0</td>\n",
              "      <td>1</td>\n",
              "      <td>0</td>\n",
              "      <td>1</td>\n",
              "    </tr>\n",
              "    <tr>\n",
              "      <th>4</th>\n",
              "      <td>4.60</td>\n",
              "      <td>6.87</td>\n",
              "      <td>42450</td>\n",
              "      <td>0</td>\n",
              "      <td>6</td>\n",
              "      <td>1</td>\n",
              "      <td>0</td>\n",
              "      <td>0</td>\n",
              "      <td>1</td>\n",
              "    </tr>\n",
              "    <tr>\n",
              "      <th>...</th>\n",
              "      <td>...</td>\n",
              "      <td>...</td>\n",
              "      <td>...</td>\n",
              "      <td>...</td>\n",
              "      <td>...</td>\n",
              "      <td>...</td>\n",
              "      <td>...</td>\n",
              "      <td>...</td>\n",
              "      <td>...</td>\n",
              "    </tr>\n",
              "    <tr>\n",
              "      <th>296</th>\n",
              "      <td>9.50</td>\n",
              "      <td>11.60</td>\n",
              "      <td>33988</td>\n",
              "      <td>0</td>\n",
              "      <td>4</td>\n",
              "      <td>1</td>\n",
              "      <td>0</td>\n",
              "      <td>0</td>\n",
              "      <td>1</td>\n",
              "    </tr>\n",
              "    <tr>\n",
              "      <th>297</th>\n",
              "      <td>4.00</td>\n",
              "      <td>5.90</td>\n",
              "      <td>60000</td>\n",
              "      <td>0</td>\n",
              "      <td>5</td>\n",
              "      <td>0</td>\n",
              "      <td>1</td>\n",
              "      <td>0</td>\n",
              "      <td>1</td>\n",
              "    </tr>\n",
              "    <tr>\n",
              "      <th>298</th>\n",
              "      <td>3.35</td>\n",
              "      <td>11.00</td>\n",
              "      <td>87934</td>\n",
              "      <td>0</td>\n",
              "      <td>11</td>\n",
              "      <td>0</td>\n",
              "      <td>1</td>\n",
              "      <td>0</td>\n",
              "      <td>1</td>\n",
              "    </tr>\n",
              "    <tr>\n",
              "      <th>299</th>\n",
              "      <td>11.50</td>\n",
              "      <td>12.50</td>\n",
              "      <td>9000</td>\n",
              "      <td>0</td>\n",
              "      <td>3</td>\n",
              "      <td>1</td>\n",
              "      <td>0</td>\n",
              "      <td>0</td>\n",
              "      <td>1</td>\n",
              "    </tr>\n",
              "    <tr>\n",
              "      <th>300</th>\n",
              "      <td>5.30</td>\n",
              "      <td>5.90</td>\n",
              "      <td>5464</td>\n",
              "      <td>0</td>\n",
              "      <td>4</td>\n",
              "      <td>0</td>\n",
              "      <td>1</td>\n",
              "      <td>0</td>\n",
              "      <td>1</td>\n",
              "    </tr>\n",
              "  </tbody>\n",
              "</table>\n",
              "<p>301 rows × 9 columns</p>\n",
              "</div>"
            ],
            "text/plain": [
              "     Selling_Price(lacs)  ...  Transmission_Manual\n",
              "0                   3.35  ...                    1\n",
              "1                   4.75  ...                    1\n",
              "2                   7.25  ...                    1\n",
              "3                   2.85  ...                    1\n",
              "4                   4.60  ...                    1\n",
              "..                   ...  ...                  ...\n",
              "296                 9.50  ...                    1\n",
              "297                 4.00  ...                    1\n",
              "298                 3.35  ...                    1\n",
              "299                11.50  ...                    1\n",
              "300                 5.30  ...                    1\n",
              "\n",
              "[301 rows x 9 columns]"
            ]
          },
          "metadata": {
            "tags": []
          },
          "execution_count": 13
        }
      ]
    },
    {
      "cell_type": "code",
      "metadata": {
        "id": "LiQgpCha9MxA"
      },
      "source": [
        "y = car_data['Selling_Price(lacs)']\r\n",
        "X = car_data.drop('Selling_Price(lacs)',axis=1)"
      ],
      "execution_count": 14,
      "outputs": []
    },
    {
      "cell_type": "markdown",
      "metadata": {
        "id": "W_2KRLBVJkG_"
      },
      "source": [
        "Spliting Data into train and Test\r\n"
      ]
    },
    {
      "cell_type": "code",
      "metadata": {
        "colab": {
          "base_uri": "https://localhost:8080/"
        },
        "id": "3dpl-cES9fc6",
        "outputId": "ccdff13c-681b-4cce-c83f-4939cd11fe76"
      },
      "source": [
        "from sklearn.model_selection import train_test_split\r\n",
        "\r\n",
        "X_train, X_test, y_train, y_test = train_test_split(X, y, test_size=0.2, random_state=42)\r\n",
        "print(\"x train: \",X_train.shape)\r\n",
        "print(\"x test: \",X_test.shape)\r\n",
        "print(\"y train: \",y_train.shape)\r\n",
        "print(\"y test: \",y_test.shape)"
      ],
      "execution_count": 15,
      "outputs": [
        {
          "output_type": "stream",
          "text": [
            "x train:  (240, 8)\n",
            "x test:  (61, 8)\n",
            "y train:  (240,)\n",
            "y test:  (61,)\n"
          ],
          "name": "stdout"
        }
      ]
    },
    {
      "cell_type": "code",
      "metadata": {
        "id": "xgg1eWWEB3aa"
      },
      "source": [
        "from sklearn.metrics import r2_score\r\n",
        "from sklearn.model_selection import cross_val_score\r\n",
        "\r\n",
        "CV = []\r\n",
        "R2_train = []\r\n",
        "R2_test = []\r\n",
        "\r\n",
        "def car_pred_model(model,model_name):\r\n",
        "    # Training model\r\n",
        "    model.fit(X_train,y_train)\r\n",
        "            \r\n",
        "    # R2 score of train set\r\n",
        "    y_pred_train = model.predict(X_train)\r\n",
        "    R2_train_model = r2_score(y_train,y_pred_train)\r\n",
        "    R2_train.append(round(R2_train_model,2))\r\n",
        "    \r\n",
        "    # R2 score of test set\r\n",
        "    y_pred_test = model.predict(X_test)\r\n",
        "    R2_test_model = r2_score(y_test,y_pred_test)\r\n",
        "    R2_test.append(round(R2_test_model,2))\r\n",
        "    \r\n",
        "    # R2 mean of train set using Cross validation\r\n",
        "    cross_val = cross_val_score(model ,X_train ,y_train ,cv=5)\r\n",
        "    cv_mean = cross_val.mean()\r\n",
        "    CV.append(round(cv_mean,2))\r\n",
        "    \r\n",
        "    # Printing results\r\n",
        "    print(\"Train R2-score :\",round(R2_train_model,2))\r\n",
        "    print(\"Test R2-score :\",round(R2_test_model,2))\r\n",
        "    print(\"Train CV scores :\",cross_val)\r\n",
        "    print(\"Train CV mean :\",round(cv_mean,2))\r\n",
        "    \r\n",
        "    # Plotting Graphs \r\n",
        "    # Residual Plot of train data\r\n",
        "    fig, ax = plt.subplots(1,2,figsize = (10,4))\r\n",
        "    ax[0].set_title('Residual Plot of Train samples')\r\n",
        "    sns.distplot((y_train-y_pred_train),hist = False,ax = ax[0])\r\n",
        "    ax[0].set_xlabel('y_train - y_pred_train')\r\n",
        "    \r\n",
        "    # Y_test vs Y_train scatter plot\r\n",
        "    ax[1].set_title('y_test vs y_pred_test')\r\n",
        "    ax[1].scatter(x = y_test, y = y_pred_test)\r\n",
        "    ax[1].set_xlabel('y_test')\r\n",
        "    ax[1].set_ylabel('y_pred_test')\r\n",
        "    \r\n",
        "    plt.show()"
      ],
      "execution_count": 16,
      "outputs": []
    },
    {
      "cell_type": "code",
      "metadata": {
        "colab": {
          "base_uri": "https://localhost:8080/",
          "height": 417
        },
        "id": "kcTuW9x5B_U2",
        "outputId": "395e9c6f-d2d3-41f6-8acd-2fd074ad3948"
      },
      "source": [
        "from sklearn.linear_model import LinearRegression\r\n",
        "\r\n",
        "lr = LinearRegression()\r\n",
        "car_pred_model(lr,\"Linear_regressor.pkl\")"
      ],
      "execution_count": 17,
      "outputs": [
        {
          "output_type": "stream",
          "text": [
            "Train R2-score : 0.89\n",
            "Test R2-score : 0.85\n",
            "Train CV scores : [0.85420812 0.84855467 0.81145104 0.83374004 0.90176495]\n",
            "Train CV mean : 0.85\n"
          ],
          "name": "stdout"
        },
        {
          "output_type": "stream",
          "text": [
            "/usr/local/lib/python3.6/dist-packages/seaborn/distributions.py:2557: FutureWarning: `distplot` is a deprecated function and will be removed in a future version. Please adapt your code to use either `displot` (a figure-level function with similar flexibility) or `kdeplot` (an axes-level function for kernel density plots).\n",
            "  warnings.warn(msg, FutureWarning)\n"
          ],
          "name": "stderr"
        },
        {
          "output_type": "display_data",
          "data": {
            "image/png": "[encoded data removed]",
            "text/plain": [
              "<Figure size 720x288 with 2 Axes>"
            ]
          },
          "metadata": {
            "tags": [],
            "needs_background": "light"
          }
        }
      ]
    },
    {
      "cell_type": "code",
      "metadata": {
        "colab": {
          "base_uri": "https://localhost:8080/",
          "height": 417
        },
        "id": "mW0sdD6QCTiv",
        "outputId": "6abcf081-6b15-4483-d283-6207b094dc60"
      },
      "source": [
        "from sklearn.linear_model import Ridge\r\n",
        "from sklearn.model_selection import RandomizedSearchCV\r\n",
        "\r\n",
        "# Creating Ridge model object\r\n",
        "rg = Ridge()\r\n",
        "# range of alpha \r\n",
        "alpha = np.logspace(-3,3,num=14)\r\n",
        "\r\n",
        "# Creating RandomizedSearchCV to find the best estimator of hyperparameter\r\n",
        "rg_rs = RandomizedSearchCV(estimator = rg, param_distributions = dict(alpha=alpha))\r\n",
        "\r\n",
        "car_pred_model(rg_rs,\"ridge.pkl\")"
      ],
      "execution_count": 18,
      "outputs": [
        {
          "output_type": "stream",
          "text": [
            "Train R2-score : 0.89\n",
            "Test R2-score : 0.85\n",
            "Train CV scores : [0.85429157 0.78429583 0.81106335 0.83438554 0.90485002]\n",
            "Train CV mean : 0.84\n"
          ],
          "name": "stdout"
        },
        {
          "output_type": "stream",
          "text": [
            "/usr/local/lib/python3.6/dist-packages/seaborn/distributions.py:2557: FutureWarning: `distplot` is a deprecated function and will be removed in a future version. Please adapt your code to use either `displot` (a figure-level function with similar flexibility) or `kdeplot` (an axes-level function for kernel density plots).\n",
            "  warnings.warn(msg, FutureWarning)\n"
          ],
          "name": "stderr"
        },
        {
          "output_type": "display_data",
          "data": {
            "image/png": "[encoded data removed]",
            "text/plain": [
              "<Figure size 720x288 with 2 Axes>"
            ]
          },
          "metadata": {
            "tags": [],
            "needs_background": "light"
          }
        }
      ]
    },
    {
      "cell_type": "code",
      "metadata": {
        "colab": {
          "base_uri": "https://localhost:8080/",
          "height": 417
        },
        "id": "6BDb2aosCgBf",
        "outputId": "fb296fe5-6e27-4767-ad3d-8c0af4e9b9e5"
      },
      "source": [
        "from sklearn.linear_model import Lasso\r\n",
        "from sklearn.model_selection import RandomizedSearchCV\r\n",
        "\r\n",
        "ls = Lasso()\r\n",
        "alpha = np.logspace(-3,3,num=14) # range for alpha\r\n",
        "\r\n",
        "ls_rs = RandomizedSearchCV(estimator = ls, param_distributions = dict(alpha=alpha))\r\n",
        "car_pred_model(ls_rs,'lasso.pkl')"
      ],
      "execution_count": 19,
      "outputs": [
        {
          "output_type": "stream",
          "text": [
            "Train R2-score : 0.89\n",
            "Test R2-score : 0.85\n",
            "Train CV scores : [0.85406167 0.82641245 0.81269976 0.83406636 0.90220903]\n",
            "Train CV mean : 0.85\n"
          ],
          "name": "stdout"
        },
        {
          "output_type": "stream",
          "text": [
            "/usr/local/lib/python3.6/dist-packages/seaborn/distributions.py:2557: FutureWarning: `distplot` is a deprecated function and will be removed in a future version. Please adapt your code to use either `displot` (a figure-level function with similar flexibility) or `kdeplot` (an axes-level function for kernel density plots).\n",
            "  warnings.warn(msg, FutureWarning)\n"
          ],
          "name": "stderr"
        },
        {
          "output_type": "display_data",
          "data": {
            "image/png": "[encoded data removed]",
            "text/plain": [
              "<Figure size 720x288 with 2 Axes>"
            ]
          },
          "metadata": {
            "tags": [],
            "needs_background": "light"
          }
        }
      ]
    },
    {
      "cell_type": "code",
      "metadata": {
        "id": "vgJd_JjPCSkR"
      },
      "source": [
        "from sklearn.ensemble import RandomForestRegressor\r\n",
        "from sklearn.model_selection import RandomizedSearchCV\r\n",
        "\r\n",
        "rf = RandomForestRegressor()\r\n",
        "\r\n",
        "# Number of trees in Random forest\r\n",
        "n_estimators=list(range(500,1000,100))\r\n",
        "# Maximum number of levels in a tree\r\n",
        "max_depth=list(range(4,9,4))\r\n",
        "# Minimum number of samples required to split an internal node\r\n",
        "min_samples_split=list(range(4,9,2))\r\n",
        "# Minimum number of samples required to be at a leaf node.\r\n",
        "min_samples_leaf=[1,2,5,7]\r\n",
        "# Number of fearures to be considered at each split\r\n",
        "max_features=['auto','sqrt']\r\n",
        "\r\n",
        "# Hyperparameters dict\r\n",
        "param_grid = {\"n_estimators\":n_estimators,\r\n",
        "              \"max_depth\":max_depth,\r\n",
        "              \"min_samples_split\":min_samples_split,\r\n",
        "              \"min_samples_leaf\":min_samples_leaf,\r\n",
        "              \"max_features\":max_features}\r\n",
        "\r\n",
        "rf_rs = RandomizedSearchCV(estimator = rf, param_distributions = param_grid)"
      ],
      "execution_count": 20,
      "outputs": []
    },
    {
      "cell_type": "code",
      "metadata": {
        "colab": {
          "base_uri": "https://localhost:8080/",
          "height": 417
        },
        "id": "D4QXph8uCIt7",
        "outputId": "1311ef95-d286-45cf-d76e-38a21ea545ef"
      },
      "source": [
        "car_pred_model(rf_rs,'random_forest.pkl')"
      ],
      "execution_count": 21,
      "outputs": [
        {
          "output_type": "stream",
          "text": [
            "Train R2-score : 0.98\n",
            "Test R2-score : 0.96\n",
            "Train CV scores : [0.90342903 0.71544837 0.75430749 0.79450635 0.92464362]\n",
            "Train CV mean : 0.82\n"
          ],
          "name": "stdout"
        },
        {
          "output_type": "stream",
          "text": [
            "/usr/local/lib/python3.6/dist-packages/seaborn/distributions.py:2557: FutureWarning: `distplot` is a deprecated function and will be removed in a future version. Please adapt your code to use either `displot` (a figure-level function with similar flexibility) or `kdeplot` (an axes-level function for kernel density plots).\n",
            "  warnings.warn(msg, FutureWarning)\n"
          ],
          "name": "stderr"
        },
        {
          "output_type": "display_data",
          "data": {
            "image/png": "[encoded data removed]",
            "text/plain": [
              "<Figure size 720x288 with 2 Axes>"
            ]
          },
          "metadata": {
            "tags": [],
            "needs_background": "light"
          }
        }
      ]
    },
    {
      "cell_type": "code",
      "metadata": {
        "colab": {
          "base_uri": "https://localhost:8080/"
        },
        "id": "8RQekT_o_9yp",
        "outputId": "eb41cf84-8ae7-4477-c331-5ce65d695d64"
      },
      "source": [
        "rf_rs.best_params_"
      ],
      "execution_count": 22,
      "outputs": [
        {
          "output_type": "execute_result",
          "data": {
            "text/plain": [
              "{'max_depth': 8,\n",
              " 'max_features': 'auto',\n",
              " 'min_samples_leaf': 1,\n",
              " 'min_samples_split': 4,\n",
              " 'n_estimators': 500}"
            ]
          },
          "metadata": {
            "tags": []
          },
          "execution_count": 22
        }
      ]
    },
    {
      "cell_type": "code",
      "metadata": {
        "id": "G-P4MI9dBHlX"
      },
      "source": [
        "from sklearn.ensemble import GradientBoostingRegressor\r\n",
        "from sklearn.model_selection import RandomizedSearchCV\r\n",
        "\r\n",
        "gb = GradientBoostingRegressor()\r\n",
        "\r\n",
        "# Rate at which correcting is being made\r\n",
        "learning_rate = [0.001, 0.01, 0.1, 0.2]\r\n",
        "# Number of trees in Gradient boosting\r\n",
        "n_estimators=list(range(500,1000,100))\r\n",
        "# Maximum number of levels in a tree\r\n",
        "max_depth=list(range(4,9,4))\r\n",
        "# Minimum number of samples required to split an internal node\r\n",
        "min_samples_split=list(range(4,9,2))\r\n",
        "# Minimum number of samples required to be at a leaf node.\r\n",
        "min_samples_leaf=[1,2,5,7]\r\n",
        "# Number of fearures to be considered at each split\r\n",
        "max_features=['auto','sqrt']\r\n",
        "\r\n",
        "# Hyperparameters dict\r\n",
        "param_grid = {\"learning_rate\":learning_rate,\r\n",
        "              \"n_estimators\":n_estimators,\r\n",
        "              \"max_depth\":max_depth,\r\n",
        "              \"min_samples_split\":min_samples_split,\r\n",
        "              \"min_samples_leaf\":min_samples_leaf,\r\n",
        "              \"max_features\":max_features}\r\n",
        "\r\n",
        "gb_rs = RandomizedSearchCV(estimator = gb, param_distributions = param_grid)\r\n"
      ],
      "execution_count": 23,
      "outputs": []
    },
    {
      "cell_type": "code",
      "metadata": {
        "colab": {
          "base_uri": "https://localhost:8080/",
          "height": 417
        },
        "id": "BeEJw-p-C4m-",
        "outputId": "29b64e19-cdd9-4854-ea4b-25dd4d0c6d76"
      },
      "source": [
        "car_pred_model(gb_rs,\"gradient_boosting.pkl\")"
      ],
      "execution_count": 24,
      "outputs": [
        {
          "output_type": "stream",
          "text": [
            "Train R2-score : 1.0\n",
            "Test R2-score : 0.97\n",
            "Train CV scores : [0.9507947  0.78776992 0.88257219 0.89727551 0.96095877]\n",
            "Train CV mean : 0.9\n"
          ],
          "name": "stdout"
        },
        {
          "output_type": "stream",
          "text": [
            "/usr/local/lib/python3.6/dist-packages/seaborn/distributions.py:2557: FutureWarning: `distplot` is a deprecated function and will be removed in a future version. Please adapt your code to use either `displot` (a figure-level function with similar flexibility) or `kdeplot` (an axes-level function for kernel density plots).\n",
            "  warnings.warn(msg, FutureWarning)\n"
          ],
          "name": "stderr"
        },
        {
          "output_type": "display_data",
          "data": {
            "image/png": "[encoded data removed]",
            "text/plain": [
              "<Figure size 720x288 with 2 Axes>"
            ]
          },
          "metadata": {
            "tags": [],
            "needs_background": "light"
          }
        }
      ]
    },
    {
      "cell_type": "code",
      "metadata": {
        "colab": {
          "base_uri": "https://localhost:8080/"
        },
        "id": "KUn3LWHJC505",
        "outputId": "7cc9157b-af55-4863-98cb-47c3e6ff0407"
      },
      "source": [
        "gb_rs.best_params_"
      ],
      "execution_count": 25,
      "outputs": [
        {
          "output_type": "execute_result",
          "data": {
            "text/plain": [
              "{'learning_rate': 0.01,\n",
              " 'max_depth': 4,\n",
              " 'max_features': 'auto',\n",
              " 'min_samples_leaf': 1,\n",
              " 'min_samples_split': 8,\n",
              " 'n_estimators': 500}"
            ]
          },
          "metadata": {
            "tags": []
          },
          "execution_count": 25
        }
      ]
    },
    {
      "cell_type": "code",
      "metadata": {
        "colab": {
          "base_uri": "https://localhost:8080/",
          "height": 195
        },
        "id": "8PIcZ496DE3g",
        "outputId": "7606d958-895c-4218-97ac-244f4a3342d2"
      },
      "source": [
        "Technique = [\"LinearRegression\",\"Ridge\",\"Lasso\",\"RandomForestRegressor\",\"GradientBoostingRegressor\"]\r\n",
        "results=pd.DataFrame({'Model': Technique,'R Squared(Train)': R2_train,'R Squared(Test)': R2_test,'CV score mean(Train)': CV})\r\n",
        "display(results)"
      ],
      "execution_count": 26,
      "outputs": [
        {
          "output_type": "display_data",
          "data": {
            "text/html": [
              "<div>\n",
              "<style scoped>\n",
              "    .dataframe tbody tr th:only-of-type {\n",
              "        vertical-align: middle;\n",
              "    }\n",
              "\n",
              "    .dataframe tbody tr th {\n",
              "        vertical-align: top;\n",
              "    }\n",
              "\n",
              "    .dataframe thead th {\n",
              "        text-align: right;\n",
              "    }\n",
              "</style>\n",
              "<table border=\"1\" class=\"dataframe\">\n",
              "  <thead>\n",
              "    <tr style=\"text-align: right;\">\n",
              "      <th></th>\n",
              "      <th>Model</th>\n",
              "      <th>R Squared(Train)</th>\n",
              "      <th>R Squared(Test)</th>\n",
              "      <th>CV score mean(Train)</th>\n",
              "    </tr>\n",
              "  </thead>\n",
              "  <tbody>\n",
              "    <tr>\n",
              "      <th>0</th>\n",
              "      <td>LinearRegression</td>\n",
              "      <td>0.89</td>\n",
              "      <td>0.85</td>\n",
              "      <td>0.85</td>\n",
              "    </tr>\n",
              "    <tr>\n",
              "      <th>1</th>\n",
              "      <td>Ridge</td>\n",
              "      <td>0.89</td>\n",
              "      <td>0.85</td>\n",
              "      <td>0.84</td>\n",
              "    </tr>\n",
              "    <tr>\n",
              "      <th>2</th>\n",
              "      <td>Lasso</td>\n",
              "      <td>0.89</td>\n",
              "      <td>0.85</td>\n",
              "      <td>0.85</td>\n",
              "    </tr>\n",
              "    <tr>\n",
              "      <th>3</th>\n",
              "      <td>RandomForestRegressor</td>\n",
              "      <td>0.98</td>\n",
              "      <td>0.96</td>\n",
              "      <td>0.82</td>\n",
              "    </tr>\n",
              "    <tr>\n",
              "      <th>4</th>\n",
              "      <td>GradientBoostingRegressor</td>\n",
              "      <td>1.00</td>\n",
              "      <td>0.97</td>\n",
              "      <td>0.90</td>\n",
              "    </tr>\n",
              "  </tbody>\n",
              "</table>\n",
              "</div>"
            ],
            "text/plain": [
              "                       Model  ...  CV score mean(Train)\n",
              "0           LinearRegression  ...                  0.85\n",
              "1                      Ridge  ...                  0.84\n",
              "2                      Lasso  ...                  0.85\n",
              "3      RandomForestRegressor  ...                  0.82\n",
              "4  GradientBoostingRegressor  ...                  0.90\n",
              "\n",
              "[5 rows x 4 columns]"
            ]
          },
          "metadata": {
            "tags": []
          }
        }
      ]
    },
    {
      "cell_type": "code",
      "metadata": {
        "id": "7-536lieIIlo"
      },
      "source": [
        "\r\n",
        "import pickle\r\n",
        "# open a file, where you ant to store the data\r\n",
        "file = open('gradient_boosting_Regressor.pkl', 'wb')\r\n",
        "\r\n",
        "# dump information to that file\r\n",
        "pickle.dump(gb_rs, file)"
      ],
      "execution_count": 27,
      "outputs": []
    },
    {
      "cell_type": "code",
      "metadata": {
        "id": "HxsVJE2lKqsI"
      },
      "source": [
        "model=pickle.load(open('gradient_boosting_Regressor.pkl','rb'))"
      ],
      "execution_count": null,
      "outputs": []
    }
  ]
}